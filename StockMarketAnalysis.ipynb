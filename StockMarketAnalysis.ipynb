{
  "nbformat": 4,
  "nbformat_minor": 0,
  "metadata": {
    "colab": {
      "name": "StockMarketAnalysis.ipynb",
      "provenance": [],
      "collapsed_sections": []
    },
    "kernelspec": {
      "name": "python3",
      "display_name": "Python 3"
    },
    "language_info": {
      "name": "python"
    }
  },
  "cells": [
    {
      "cell_type": "code",
      "metadata": {
        "id": "2d7mq0FNfa0G"
      },
      "source": [
        "import pandas as pd\n",
        "import requests as rq\n",
        "import json\n",
        "import logging"
      ],
      "execution_count": null,
      "outputs": []
    },
    {
      "cell_type": "code",
      "metadata": {
        "id": "vmu1Ijiffzt6"
      },
      "source": [
        "STOCK_LIST = ['MMM', 'ABT', 'ABBV', 'ABMD', 'ACN', 'ATVI', 'ADBE', 'AMD', 'AAP', 'AES']\n",
        "df = pd.DataFrame()\n",
        "for url in STOCK_LIST:  \n",
        "  URL = f'https://api.stocktwits.com/api/2/streams/symbol/{url}.json'\n",
        "  r = rq.get(URL)\n",
        "  data = json.loads(r.content)\n",
        "  s = json.dumps(data, indent=4)\n",
        "  logging.info(f\"json. dump:::::::::::========>>>>>>>{s}\")\n",
        "  json_data = json.loads(s)\n",
        "  logging.info(json_data)\n",
        "  symbol_id = json_data['symbol']['id']\n",
        "  stock_title = json_data['symbol']['title']\n",
        "  stock_symbol = json_data['symbol']['symbol']\n",
        "  id = []\n",
        "  created_at = []\n",
        "  body = []\n",
        "  userid = []\n",
        "  username = []\n",
        "  sentimentScore = []\n",
        "  for i in json_data['messages']:\n",
        "    id.append(i['id'])\n",
        "    created_at.append(i['created_at'])\n",
        "    body.append(i['body'])\n",
        "    userid.append(i['user']['id'])\n",
        "    username.append(i['user']['username'])\n",
        "    if i['entities']['sentiment'] is None:\n",
        "      sentimentScore.append(0)\n",
        "    else:\n",
        "      if i['entities']['sentiment']['basic'] == 'Bullish':\n",
        "        sentimentScore.append(i['user']['followers']) \n",
        "      else:\n",
        "        sentimentScore.append(0 - int(i['user']['followers']))\n",
        "  temp_df = pd.DataFrame({'symbol_id':symbol_id,'stock_title':stock_title,'stock_symbol':stock_symbol,'id':id,'created_at':created_at, 'body': body, 'userid': userid, 'username': username,'sentimentScore':sentimentScore})\n",
        "  df = df.append(temp_df)\n",
        "df.to_csv('data.csv')\n"
      ],
      "execution_count": null,
      "outputs": []
    }
  ]
}